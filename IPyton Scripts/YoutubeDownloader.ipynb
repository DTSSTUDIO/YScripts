{
  "nbformat": 4,
  "nbformat_minor": 0,
  "metadata": {
    "colab": {
      "name": "YoutubeDownloader.ipynb",
      "version": "0.3.2",
      "provenance": [],
      "collapsed_sections": []
    },
    "kernelspec": {
      "name": "python3",
      "display_name": "Python 3"
    }
  },
  "cells": [
    {
      "cell_type": "code",
      "metadata": {
        "id": "RT3dqB7dkpil",
        "colab_type": "code",
        "colab": {
          "base_uri": "https://localhost:8080/",
          "height": 275
        },
        "outputId": "77e6a56a-7002-4d03-bb59-4dd83b3b77bd"
      },
      "source": [
        "#@title Video Downloader { vertical-output: true, display-mode: \"form\" }\n",
        "\n",
        "#@markdown Araç: https://github.com/ytdl-org/youtube-dl\n",
        "\n",
        "URL = \"https://www.youtube.com/watch?v=u1KrI2pm2ms\" #@param {type:\"string\"}\n",
        "to_drive = False #@param {type:\"boolean\"}\n",
        "slient = True #@param {type:\"boolean\"}\n",
        "download = False #@param {type:\"boolean\"}\n",
        "\n",
        "# Kurulum\n",
        "if 'downloaded' not in globals() or not downloaded:\n",
        "  !sudo wget \\\n",
        "    -O /usr/bin/youtube-dl \\\n",
        "    https://github.com/ytdl-org/youtube-dl/releases/download/2019.06.08/youtube-dl \\\n",
        "    \n",
        "  !sudo chmod a+rx /usr/bin/youtube-dl\n",
        "  downloaded = True\n",
        "  \n",
        "\n",
        "if to_drive:\n",
        "  if 'mount' not in locals() or not mount:\n",
        "      from google.colab import drive\n",
        "      drive.mount('/content/gdrive')\n",
        "      mount = True\n",
        "      %cd '/content/gdrive'\n",
        "      \n",
        "      \n",
        "if slient:\n",
        "  !echo \"Videolar indiriliyor... (Kayıtlar için '!cat youtube-dl.log')\"\n",
        "\n",
        "# Parametreler\n",
        "param_out = '-o \"YVideos/%(playlist_title)s/%(title)s.%(ext)s\"'\n",
        "param_url = f'\"{URL}\"'\n",
        "param_log = \"&> yvideos.log\" if slient else \"\"\n",
        "\n",
        "\n",
        "!youtube-dl {param_out} {param_url} {param_log}\n",
        "\n",
        "if download:\n",
        "  from google.colab import files\n",
        "  \n",
        "  zipped_file = \"YVideos.zip\"\n",
        "  folder_to_zip = \"/content/ YVideos\"\n",
        "  !zip -r \"{zipped_file}\" \"{folder_to_zip}\" {param_log}\n",
        "  \n",
        "  !echo \"Dosya yükleniliyor...\"\n",
        "  files.download(zipped_file)\n",
        "\n",
        "  \n",
        "!echo \"İşlem tamamlandı.\""
      ],
      "execution_count": 5,
      "outputs": [
        {
          "output_type": "stream",
          "text": [
            "[youtube] u1KrI2pm2ms: Downloading webpage\n",
            "[youtube] u1KrI2pm2ms: Downloading video info webpage\n",
            "\u001b[0;33mWARNING:\u001b[0m Requested formats are incompatible for merge and will be merged into mkv.\n",
            "[download] Destination: YVideos/NA/GÜÇLÜ BİRİ OLMANIN 9 KURALI - KİŞİSEL GELİŞİM VİDEOLARI.f137.mp4\n",
            "\u001b[K[download] 100% of 48.85MiB in 00:01\n",
            "[download] Destination: YVideos/NA/GÜÇLÜ BİRİ OLMANIN 9 KURALI - KİŞİSEL GELİŞİM VİDEOLARI.f251.webm\n",
            "\u001b[K[download] 100% of 8.92MiB in 00:00\n",
            "[ffmpeg] Merging formats into \"YVideos/NA/GÜÇLÜ BİRİ OLMANIN 9 KURALI - KİŞİSEL GELİŞİM VİDEOLARI.mkv\"\n",
            "Deleting original file YVideos/NA/GÜÇLÜ BİRİ OLMANIN 9 KURALI - KİŞİSEL GELİŞİM VİDEOLARI.f137.mp4 (pass -k to keep)\n",
            "Deleting original file YVideos/NA/GÜÇLÜ BİRİ OLMANIN 9 KURALI - KİŞİSEL GELİŞİM VİDEOLARI.f251.webm (pass -k to keep)\n",
            "updating: content/ YVideos/ (stored 0%)\n",
            "updating: content/ YVideos/NA/ (stored 0%)\n",
            "updating: content/ YVideos/NA/GÜÇLÜ BİRİ OLMANIN 9 KURALI - KİŞİSEL GELİŞİM VİDEOLARI.mkv (deflated 0%)\n",
            "Dosya yükleniliyor...\n"
          ],
          "name": "stdout"
        }
      ]
    }
  ]
}