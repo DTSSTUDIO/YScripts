{
  "nbformat": 4,
  "nbformat_minor": 0,
  "metadata": {
    "colab": {
      "name": "Downloader.ipynb",
      "version": "0.3.2",
      "provenance": [],
      "collapsed_sections": []
    },
    "kernelspec": {
      "name": "python3",
      "display_name": "Python 3"
    }
  },
  "cells": [
    {
      "metadata": {
        "id": "90hyV19OZ37N",
        "colab_type": "text"
      },
      "cell_type": "markdown",
      "source": [
        "# Drive üzerine indirme yapma\n",
        "Google drive dosya sistemini colab dosya sistemine bağlama ardından verilen yoldaki dosyayı istenen drive yoluna indirme"
      ]
    },
    {
      "metadata": {
        "id": "lSGLR-HWXRed",
        "colab_type": "code",
        "cellView": "both",
        "colab": {}
      },
      "cell_type": "code",
      "source": [
        "#@markdown ### Paths\n",
        "\n",
        "download_path = \"https://xilinx-ax-dl.entitlenow.com/dl/ul/2018/02/21/R209898474/Xilinx_ISE_S6_Win10_14.7_ISE_VMs_0206_1.zip/70f417f0787735862bdf9e9e3107e2af/5CC73BF4?akdm=0&filename=Xilinx_ISE_S6_Win10_14.7_ISE_VMs_0206_1.zip\" #@param {type:\"string\"}\n",
        "upload_path = \"Yaz\\u0131l\\u0131m/Yunus Emre/Datasets/new\" #@param {type:\"string\"}\n",
        "#@markdown ### Files\n",
        "first_name = \"{}.jpg\" #@param {type:\"string\"}\n",
        "second_name = \"{}.vtt\" #@param {type:\"string\"}\n",
        "#@markdown ### Options\n",
        "drive_mounted = True #@param {type:\"boolean\"}\n",
        "to_drive = True #@param {type:\"boolean\"}\n",
        "file = True #@param {type:\"boolean\"}\n",
        "more_files = False #@param {type:\"boolean\"}\n",
        "file_dev = True #@param {type:\"boolean\"}\n",
        "\n",
        "\n",
        "if to_drive:\n",
        "  if not drive_mounted:\n",
        "    # Load the Drive helper and mount\n",
        "    from google.colab import drive\n",
        "    drive.mount('/content/drive')\n",
        "\n",
        "  !mkdir \"/content/drive/My Drive/$upload_path\"\n",
        "  %cd \"/content/drive/My Drive/$upload_path\" \n",
        "  \n",
        "  if file_dev:\n",
        "    i = 1\n",
        "    !wget -i {\"traffic_lights.txt\"}\n",
        "  else: \n",
        "    if file:\n",
        "      i = 1\n",
        "      j = 1\n",
        "      with open(\"/content/drive/My Drive/\" + download_path) as file:\n",
        "        for line in file:\n",
        "          # Yorum satırlarını okuma\n",
        "          if line[0] == \"#\":\n",
        "            print(line)\n",
        "            continue\n",
        "\n",
        "          # 2 tip dosya indirme yapısı\n",
        "          if more_files:\n",
        "            if (j == i):\n",
        "              !wget -O {first_name.format(i)} $line\n",
        "            elif (j < i):\n",
        "              !wget -O {second_name.format(j)} $line\n",
        "\n",
        "              # 2. dosya sayacını arttırma\n",
        "              j += 1\n",
        "\n",
        "          # Tek tip dosya indirme\n",
        "          else:\n",
        "            !wget -O {first_name.format(i)} $line\n",
        "\n",
        "          # Sayacı arttırma\n",
        "          i += 1\n",
        "    else:\n",
        "      !wget $download_path\n",
        "else:\n",
        "  print(\"Does not support!\")"
      ],
      "execution_count": 0,
      "outputs": []
    }
  ]
}