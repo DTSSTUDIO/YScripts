{
  "nbformat": 4,
  "nbformat_minor": 0,
  "metadata": {
    "colab": {
      "name": "Selenium_Video_Downloader.ipynb",
      "version": "0.3.2",
      "provenance": [],
      "collapsed_sections": []
    },
    "kernelspec": {
      "name": "python3",
      "display_name": "Python 3"
    }
  },
  "cells": [
    {
      "metadata": {
        "id": "tIm1eKe8kwpa",
        "colab_type": "text"
      },
      "cell_type": "markdown",
      "source": [
        "# Web Üzerinde İşlemler\n",
        "\n",
        "* HTTP istekleri\n",
        "* Uzaktan dosya indirme\n",
        "* vs."
      ]
    },
    {
      "metadata": {
        "id": "essso1EUk9Bc",
        "colab_type": "text"
      },
      "cell_type": "markdown",
      "source": [
        "## Wget yerine Axel Kullanma\n",
        "Wget basit ve eski bir uygulamadır. Axel yeni ve çok fonksiyoneldir.\n",
        "\n",
        "Axelin avantajları:\n",
        "\n",
        "* Paralel olarak indirme\n",
        "* Hız kısıtlamalarını birden fazla isteklerle ekarde etme (IDM / Torrent gibi)\n",
        "* Aynı anda çok sayıda bağlantı indirebilme\n",
        "\n"
      ]
    },
    {
      "metadata": {
        "id": "JrWbW0ZSk6fe",
        "colab_type": "code",
        "colab": {}
      },
      "cell_type": "code",
      "source": [
        "# Axel indirme\n",
        "!apt-get install axel\n",
        "\n",
        "# Axel kullanımı\n",
        "!axel -h"
      ],
      "execution_count": 0,
      "outputs": []
    },
    {
      "metadata": {
        "id": "YwrKOEJwkzhX",
        "colab_type": "text"
      },
      "cell_type": "markdown",
      "source": [
        "## Selenium Kullanımı\n",
        "Selenium web üzerinde (siteye elle girmeden) çok fonksiyonel işlemler yapmamızı sağlar\n",
        "\n",
        "* Butonlara tıklama\n",
        "* Bekleme ve hareket etme\n",
        "* JS çalıştırma vs..\n"
      ]
    },
    {
      "metadata": {
        "id": "hySzHMVZltfg",
        "colab_type": "text"
      },
      "cell_type": "markdown",
      "source": [
        "### Selenium Kurulumu\n",
        "Colab için normalden farklı bir kuruluma ihtiyaç vardır."
      ]
    },
    {
      "metadata": {
        "id": "pCQre0kol1HX",
        "colab_type": "code",
        "colab": {}
      },
      "cell_type": "code",
      "source": [
        "!pip install selenium\n",
        "!apt install chromium-chromedriver\n",
        "!cp /usr/lib/chromium-browser/chromedriver /usr/bin"
      ],
      "execution_count": 0,
      "outputs": []
    },
    {
      "metadata": {
        "id": "lRTU-rImmBtQ",
        "colab_type": "text"
      },
      "cell_type": "markdown",
      "source": [
        "\n",
        "\n",
        "> **System yoluna bağımlılığı ekleme (chromedriver)**\n",
        "\n"
      ]
    },
    {
      "metadata": {
        "id": "XCNO5bunmFk-",
        "colab_type": "code",
        "colab": {}
      },
      "cell_type": "code",
      "source": [
        "import sys\n",
        "\n",
        "# Sistem yoluna chrome-driver'i ekleme\n",
        "sys.path.insert(0,'/usr/lib/chromium-browser/chromedriver')"
      ],
      "execution_count": 0,
      "outputs": []
    },
    {
      "metadata": {
        "colab_type": "text",
        "id": "v4IIgVnVlIhu"
      },
      "cell_type": "markdown",
      "source": [
        "## Selenium Örneği\n",
        "Google üzerinde basit işlemleri yapar:\n",
        "\n",
        "* Google'a girme\n",
        "* Başlığı ekrana yazma\n",
        "* Input kısmına 'cheers!' yazar\n",
        "* Arama butonuna tıklar\n",
        "* Çıkan sayfanın başlığını ekrana yazar"
      ]
    },
    {
      "metadata": {
        "id": "SxTadEs0mQSA",
        "colab_type": "code",
        "colab": {}
      },
      "cell_type": "code",
      "source": [
        "from selenium import webdriver\n",
        "from selenium.common.exceptions import TimeoutException\n",
        "from selenium.webdriver.support.ui import WebDriverWait # available since 2.4.0\n",
        "from selenium.webdriver.support import expected_conditions as EC # available since 2.26.0\n",
        "\n",
        "# Chrome ayarlarını oluşturma\n",
        "chrome_options = webdriver.ChromeOptions()\n",
        "chrome_options.add_argument('--headless')\n",
        "chrome_options.add_argument('--no-sandbox')\n",
        "chrome_options.add_argument('--disable-dev-shm-usage')\n",
        "\n",
        "# Ayarları belirlenen chrome-driver'ın oluşturulması ve siteye girme\n",
        "driver = webdriver.Chrome('chromedriver', options=chrome_options)\n",
        "\n",
        "# go to the google home page\n",
        "driver.get(\"http://www.google.com\")\n",
        "\n",
        "# the page is ajaxy so the title is originally this:\n",
        "print (driver.title)\n",
        "\n",
        "# find the element that's name attribute is q (the google search box)\n",
        "inputElement = driver.find_element_by_name(\"q\")\n",
        "\n",
        "script = \"document.getElementsByName('q')[0]\"\n",
        "script1 = \"return 5\"\n",
        "print(driver.execute_script(\"return \" + script))\n",
        "\n",
        "# type in the search\n",
        "inputElement.send_keys(\"cheese!\")\n",
        "\n",
        "# submit the form (although google automatically searches now without submitting)\n",
        "inputElement.submit()\n",
        "\n",
        "try:\n",
        "    # we have to wait for the page to refresh, the last thing that seems to be updated is the title\n",
        "    WebDriverWait(driver, 10).until(EC.title_contains(\"cheese!\"))\n",
        "\n",
        "    # You should see \"cheese! - Google Search\"\n",
        "    print (driver.title)\n",
        "\n",
        "finally:\n",
        "    driver.quit()"
      ],
      "execution_count": 0,
      "outputs": []
    },
    {
      "metadata": {
        "id": "9L3ZRdEOYkEM",
        "colab_type": "text"
      },
      "cell_type": "markdown",
      "source": [
        "## Selenium ile İndirme\n",
        "İşlemin yapılabilmesi için:\n",
        ".\n",
        "* Seleniumun yüklü olduğundan emin olma\n",
        "* *chromium-chromedriver* yüklü olmalı\n",
        "* *chromedriver*'ın bash'e tanımlı olması\n",
        "\n",
        "gereklidir.\n"
      ]
    },
    {
      "metadata": {
        "id": "tOzCtHYH88gi",
        "colab_type": "text"
      },
      "cell_type": "markdown",
      "source": [
        "\n",
        "\n",
        "> **Bağımlılıkları dahil etme**\n",
        "\n"
      ]
    },
    {
      "metadata": {
        "id": "IvKyca8Z84wW",
        "colab_type": "code",
        "colab": {}
      },
      "cell_type": "code",
      "source": [
        "from selenium import webdriver\n",
        "from selenium.webdriver.common.by import By\n",
        "from selenium.webdriver.support.ui import WebDriverWait\n",
        "from selenium.webdriver.support import expected_conditions as EC"
      ],
      "execution_count": 0,
      "outputs": []
    },
    {
      "metadata": {
        "id": "eYMUWyre9paH",
        "colab_type": "text"
      },
      "cell_type": "markdown",
      "source": [
        "\n",
        "\n",
        "> **From ile indirme (İsteğe Bağlı)**\n",
        "\n",
        "\n",
        "\n",
        "> Bu adımı kullanmayıp, fonksiyon ile indirme adımına bakabilirsin\n",
        "\n",
        "\n",
        "\n"
      ]
    },
    {
      "metadata": {
        "id": "JWeJQd5cMcvD",
        "colab_type": "code",
        "cellView": "both",
        "colab": {}
      },
      "cell_type": "code",
      "source": [
        "#@title Video Downloader\n",
        "series = \"harrow\" #@param [\"supernatural\", \"harrow\"] {allow-input: false}\n",
        "season = 1 #@param {type:\"slider\", min:1, max:21, step:1}\n",
        "chapter = 1 #@param {type:\"slider\", min:1, max:21, step:1}\n",
        "\n",
        "\n",
        "# Chrome ayarlarını oluşturma\n",
        "chrome_options = webdriver.ChromeOptions()\n",
        "chrome_options.add_argument('--headless')\n",
        "chrome_options.add_argument('--no-sandbox')\n",
        "chrome_options.add_argument('--disable-dev-shm-usage')\n",
        "\n",
        "# Ayarları belirlenen chrome-driver'ın oluşturulması\n",
        "driver = webdriver.Chrome('chromedriver', options=chrome_options)\n",
        "\n",
        "# URL'in oluşturulması ve ona bağlanma\n",
        "main_url = \"https://www.roketfilmizle1.org/bolum/{}-{}-sezon-{}-bolum-turkce-dublaj-izle\".format(series, season, chapter)\n",
        "driver.get(main_url)\n",
        "\n",
        "# Başlığı tanımlama\n",
        "title = driver.title\n",
        "\n",
        "try:\n",
        "  # plyg id'li öğe gelene kadar bekleme\n",
        "  WebDriverWait(driver, 10).until(EC.presence_of_element_located((By.ID, \"plyg\")))\n",
        "\n",
        "  # Sitede js derleme\n",
        "  script = \"return document.getElementById('plyg').getElementsByTagName('iframe')[0].src\"\n",
        "\n",
        "  # URL'i tanımlama\n",
        "  url = driver.execute_script(script)\n",
        "  driver.get(url)\n",
        "\n",
        "  # Kaynak URL'sini test etme\n",
        "  isRapidLink = url.find(\"rapid\") > -1\n",
        "\n",
        "  # Rapid için\n",
        "  if isRapidLink:\n",
        "    # Video'nun kaynağını bulma\n",
        "    script = 'return document.getElementsByTagName(\"video\")[0].getElementsByTagName(\"source\")[0].src'\n",
        "    video_url = driver.execute_script(script)\n",
        "\n",
        "  # Oload için    \n",
        "  else:\n",
        "    # Ekrana tıklama\n",
        "    driver.find_element_by_id(\"videooverlay\").click()\n",
        "    # Video'nun kaynağını bulma\n",
        "    script = 'return  document.getElementsByTagName(\"video\")[0].currentSrc'\n",
        "    video_url = driver.execute_script(script)\n",
        "\n",
        "finally:\n",
        "  driver.quit()\n",
        "  \n",
        "print(\"Baslık: \", title)\n",
        "print(\"URL: \", url)\n",
        "print(\"Video URL: \", video_url)\n",
        "\n"
      ],
      "execution_count": 0,
      "outputs": []
    },
    {
      "metadata": {
        "id": "Bs_IFpaX6sxS",
        "colab_type": "text"
      },
      "cell_type": "markdown",
      "source": [
        "### Selenium Fonksiyonu Tanımlama ve İndirme\n",
        "Fonksiyon ile toplu indirmeler yapılabilir"
      ]
    },
    {
      "metadata": {
        "id": "y9UuKsTx-cmh",
        "colab_type": "text"
      },
      "cell_type": "markdown",
      "source": [
        "\n",
        "\n",
        "> **Dizi isimlerini listeleyen fonksiyon**\n",
        "\n"
      ]
    },
    {
      "metadata": {
        "id": "toUlP1XT-cDq",
        "colab_type": "code",
        "colab": {}
      },
      "cell_type": "code",
      "source": [
        "def get_series(key='null', show=False, id=-1):\n",
        "  # Dizi isimleri ve değişkenleri\n",
        "  dic_series = {\n",
        "      \"Supernatural\": \"supernatural\", \n",
        "      \"Harrow\": \"harrow\"\n",
        "  }\n",
        "  \n",
        "  arr_series = [\n",
        "      \"supernatural\",\n",
        "      \"harrow\"\n",
        "  ]\n",
        "  \n",
        "  # İsteğe bağlı gösterme\n",
        "  if show:\n",
        "    # Görsellik\n",
        "    print(\"İD: Film İsmi -> Anahtarı (key)\")\n",
        "    print(\"---------------------------\")\n",
        "    \n",
        "    # Verileri ekrana yazdırma\n",
        "    i = 0\n",
        "    for series in dic_series:\n",
        "      print(\"{}: {} -> {}\".format(i, series, dic_series[series]))\n",
        "      i += 1\n",
        "  \n",
        "  if key != 'null':\n",
        "    return dic_series[key]\n",
        "  \n",
        "  elif id > -1 and id < len(arr_series):\n",
        "    arr_series = []\n",
        "    \n",
        "    for series in dic_series:\n",
        "      arr_series.append(dic_series[series])\n",
        "      \n",
        "    return arr_series[id]\n",
        "  "
      ],
      "execution_count": 0,
      "outputs": []
    },
    {
      "metadata": {
        "id": "qLYG1v-K8mKa",
        "colab_type": "text"
      },
      "cell_type": "markdown",
      "source": [
        "\n",
        "\n",
        "> **Verilen sezonu ve bölümü indiren fonksiyon**\n",
        "\n"
      ]
    },
    {
      "metadata": {
        "id": "QwmjeKUrhUJe",
        "colab_type": "code",
        "colab": {}
      },
      "cell_type": "code",
      "source": [
        "def get_video(series, season, chapter):\n",
        "  # Chrome ayarlarını oluşturma\n",
        "  chrome_options = webdriver.ChromeOptions()\n",
        "  chrome_options.add_argument('--headless')\n",
        "  chrome_options.add_argument('--no-sandbox')\n",
        "  chrome_options.add_argument('--disable-dev-shm-usage')\n",
        "\n",
        "  # Ayarları belirlenen chrome-driver'ın oluşturulması\n",
        "  driver = webdriver.Chrome('chromedriver', options=chrome_options)\n",
        "  \n",
        "  # URL'in oluşturulması ve ona bağlanma\n",
        "  main_url = \"https://www.roketfilmizle1.org/bolum/{}-{}-sezon-{}-bolum-turkce-dublaj-izle\".format(series, season, chapter)\n",
        "  driver.get(main_url)\n",
        "\n",
        "  # Başlığı tanımlama\n",
        "  title = driver.title\n",
        "\n",
        "  try:\n",
        "    # plyg id'li öğe gelene kadar bekleme\n",
        "    WebDriverWait(driver, 10).until(EC.presence_of_element_located((By.ID, \"plyg\")))\n",
        "\n",
        "    # Sitede js derleme\n",
        "    script = \"return document.getElementById('plyg').getElementsByTagName('iframe')[0].src\"\n",
        "    \n",
        "    # URL'i tanımlama\n",
        "    url = driver.execute_script(script)\n",
        "    driver.get(url)\n",
        "\n",
        "    # Kaynak URL'sini test etme\n",
        "    isRapidLink = url.find(\"rapid\") > -1\n",
        "    \n",
        "    # Rapid için\n",
        "    if isRapidLink:\n",
        "      # Video'nun kaynağını bulma\n",
        "      script = 'return document.getElementsByTagName(\"video\")[0].getElementsByTagName(\"source\")[0].src'\n",
        "      video_url = driver.execute_script(script)\n",
        "    \n",
        "    # Oload için    \n",
        "    else:\n",
        "      # Ekrana tıklama\n",
        "      driver.find_element_by_id(\"videooverlay\").click()\n",
        "      # Video'nun kaynağını bulma\n",
        "      script = 'return  document.getElementsByTagName(\"video\")[0].currentSrc'\n",
        "      video_url = driver.execute_script(script)\n",
        "    \n",
        "  finally:\n",
        "    driver.quit()\n",
        "    \n",
        "  return title, url, video_url"
      ],
      "execution_count": 0,
      "outputs": []
    },
    {
      "metadata": {
        "id": "pKX3-7azD4x0",
        "colab_type": "text"
      },
      "cell_type": "markdown",
      "source": [
        "\n",
        "\n",
        "> **Örnek Kullanım**\n",
        "\n"
      ]
    },
    {
      "metadata": {
        "id": "kwjyDemD6262",
        "colab_type": "code",
        "colab": {}
      },
      "cell_type": "code",
      "source": [
        "get_series(show=True)\n",
        "get_video(get_series(id=1), 1, 1)"
      ],
      "execution_count": 0,
      "outputs": []
    },
    {
      "metadata": {
        "id": "Y_3s8JRr-Jy-",
        "colab_type": "text"
      },
      "cell_type": "markdown",
      "source": [
        "\n",
        "\n",
        "> **Colab ile drive'a erişim sağlama**\n",
        "\n"
      ]
    },
    {
      "metadata": {
        "id": "ZPL57VOf91-K",
        "colab_type": "code",
        "colab": {}
      },
      "cell_type": "code",
      "source": [
        "if not isMount:\n",
        "  from google.colab import drive\n",
        "  drive.mount('/content/mdrive')\n",
        "  isMount = True"
      ],
      "execution_count": 0,
      "outputs": []
    },
    {
      "metadata": {
        "id": "sn4mF2A--OtX",
        "colab_type": "text"
      },
      "cell_type": "markdown",
      "source": [
        "\n",
        "\n",
        "> **Belli sezonlara ait bölümleri indirme**\n",
        "\n"
      ]
    },
    {
      "metadata": {
        "id": "Ic6vAwhENYRo",
        "colab_type": "code",
        "colab": {}
      },
      "cell_type": "code",
      "source": [
        "if isMount:\n",
        "  for i in range (1, 8):\n",
        "    !mkdir '/content/mdrive/My Drive/Filmler/Supernatural/{i}.Sezon'\n",
        "    %cd '/content/mdrive/My Drive/Filmler/Supernatural/{i}.Sezon'\n",
        "\n",
        "    for j in range (1, 23):\n",
        "      # 3.sezon 16 bölüm\n",
        "      if j == 16 and i == 3:\n",
        "        print(\"Sezonun son bölümü, sezon atlandı!\")\n",
        "        break\n",
        "\n",
        "      # 1. sezon indi\n",
        "      if i == 1:\n",
        "        break\n",
        "\n",
        "      !echo \"{i}.Sezon {j}.Bolum için indirme linkleri oluşturuluyor..\"\n",
        "      _, main_url, video_url = get_video(get_series(id=0), i, j)\n",
        "      !echo \"{main_url} {video_url}\"\n",
        "\n",
        "      !echo \"{i}.Sezon {j}.Bolum indiriliyor..\"\n",
        "      # 20 koldan bağlanma ve sessiz indirme\n",
        "      !axel -S4 -a -q -c -o \"Bolum{j}.mp4\" -n 20 \"{video_url}\""
      ],
      "execution_count": 0,
      "outputs": []
    },
    {
      "metadata": {
        "id": "lqUFbThxJfjL",
        "colab_type": "text"
      },
      "cell_type": "markdown",
      "source": [
        "## HTTP isteği ile url indirme\n",
        "Film sitelerindeki filmleri uzaktan indirmeyi sağlar\n"
      ]
    },
    {
      "metadata": {
        "id": "NvGSzUPelGZM",
        "colab_type": "code",
        "cellView": "both",
        "colab": {}
      },
      "cell_type": "code",
      "source": [
        "import requests # HTTP istekleri\n",
        "from bs4 import BeautifulSoup # HTTP isteklerini işleme\n",
        "import base64 # Şifreleme işlemleri\n",
        "\n",
        "#@title Roketfilmizle Media Finder\n",
        "\n",
        "# URL tanımlama\n",
        "url = 'https://www.roketfilmizle1.org/bolum/supernatural-2-sezon-11-bolum-turkce-dublaj-izle' #@param {type:\"string\"}\n",
        "\n",
        "# HTTP isteği ile yanıt alma\n",
        "r = requests.get(url)\n",
        "\n",
        "# HTTP yanıtını BeautifulSoup ile işleyecek obje tanımlama\n",
        "soup = BeautifulSoup(r.text, 'html.parser')\n",
        "\n",
        "# ID'si verilern html'i elemanın metnini alma\n",
        "script_text = soup.find(id=\"plyg\").script.get_text()\n",
        "# Kodlanmış metni alma\n",
        "encoded_text = str.split('\"')[1]\n",
        "# Kodu çözümleme\n",
        "decoded_text = base64.b64decode(encoded)\n",
        "\n",
        "# Kodu çözümlenmiş metni işlemeye hazırlama\n",
        "soup = BeautifulSoup(decoded_text, 'html.parser')\n",
        "\n",
        "# URL'i çekme\n",
        "url = soup.iframe['src']\n",
        "\n",
        "# Yeni URL ile istekte bulunma\n",
        "r = requests.get(url)\n",
        "\n",
        "# HTTP yanıtını BeautifulSoup ile işleyecek obje tanımlama\n",
        "soup = BeautifulSoup(r.text, 'html.parser')\n",
        "\n",
        "# document.getElementById(\"videojs\").innerHTML.split('\"')[1]\n",
        "\n",
        "# ID ile HTML elemanını bulma\n",
        "element = soup.find(id='videojs')\n",
        "\n",
        "# Elemandan video url'ini alma\n",
        "media_url = element.source['src']\n",
        "\n",
        "print(media_url)"
      ],
      "execution_count": 0,
      "outputs": []
    },
    {
      "metadata": {
        "id": "3r68ziI8JlFR",
        "colab_type": "text"
      },
      "cell_type": "markdown",
      "source": [
        "### Fonksiyon ile İndirme\n",
        "Fonksiyon yardımıyla seri bir şekilde videoları indirme"
      ]
    },
    {
      "metadata": {
        "id": "7CvPVyQ-593K",
        "colab_type": "code",
        "colab": {}
      },
      "cell_type": "code",
      "source": [
        "# Verilen sezondaki istenen bölümün video url'ini verir\n",
        "def get_media_from_roketfilmizle1(season, chapter):\n",
        "  # HTTP isteğinde bulunma\n",
        "  url = 'https://www.roketfilmizle1.org/bolum/supernatural-{}-sezon-{}-bolum-turkce-dublaj-izle'.format(season, chapter)\n",
        "  r = requests.get(url)\n",
        "  \n",
        "  # HTTP'yi işleyerek kodlanmış metni alma\n",
        "  soup = BeautifulSoup(r.text, 'html.parser')\n",
        "  script_text = soup.find(id=\"plyg\").script.get_text()\n",
        "  \n",
        "  # Kodlanmış metni çözümleme\n",
        "  encoded_text = str.split('\"')[1]\n",
        "  decoded_text = base64.b64decode(encoded)\n",
        "  \n",
        "  # HTTP'yi işleyerek yeni url ile istekte bulunma\n",
        "  soup = BeautifulSoup(decoded_text, 'html.parser')\n",
        "  url = soup.iframe['src']\n",
        "  r = requests.get(url)\n",
        "  \n",
        "  # HTTP üzerinden video linkini çekme\n",
        "  soup = BeautifulSoup(r.text, 'html.parser')\n",
        "  element = soup.find(id='videojs')\n",
        "  media_url = element.source['src']\n",
        "  \n",
        "  return media_url"
      ],
      "execution_count": 0,
      "outputs": []
    },
    {
      "metadata": {
        "id": "xseixRCoH9ZU",
        "colab_type": "code",
        "colab": {}
      },
      "cell_type": "code",
      "source": [
        "# Verilen sezonu komple indirir\n",
        "def get_all_season_from_roketfilmizle1(season):\n",
        "  for i in "
      ],
      "execution_count": 0,
      "outputs": []
    },
    {
      "metadata": {
        "id": "5dWlP_29H_Em",
        "colab_type": "code",
        "colab": {}
      },
      "cell_type": "code",
      "source": [
        "print(get_media_from_roketfilmizle1(1, 1))\n",
        "print(get_media_from_roketfilmizle1(1, 22))"
      ],
      "execution_count": 0,
      "outputs": []
    },
    {
      "metadata": {
        "id": "QAHe5-fF4API",
        "colab_type": "text"
      },
      "cell_type": "markdown",
      "source": [
        "## Berkeley Dataset Download"
      ]
    },
    {
      "metadata": {
        "id": "Ms0FK5__KIMJ",
        "colab_type": "code",
        "colab": {}
      },
      "cell_type": "code",
      "source": [
        "from selenium import webdriver\n",
        "from selenium.webdriver.common.by import By\n",
        "from selenium.webdriver.support.ui import WebDriverWait\n",
        "from selenium.webdriver.support import expected_conditions as EC"
      ],
      "execution_count": 0,
      "outputs": []
    },
    {
      "metadata": {
        "id": "npJrft1a4FMI",
        "colab_type": "code",
        "colab": {}
      },
      "cell_type": "code",
      "source": [
        "# Chrome ayarlarını oluşturma\n",
        "chrome_options = webdriver.ChromeOptions()\n",
        "chrome_options.add_argument('--headless')\n",
        "chrome_options.add_argument('--no-sandbox')\n",
        "chrome_options.add_argument('--disable-dev-shm-usage')\n",
        "chrome_options.add_argument('--safebrowsing-disable-download-protection')\n",
        "chrome_options.add_argument('--safebrowsing-manual-download-blacklist')\n",
        "\n",
        "preferences = {\"download.default_directory\": \"/content\", \"safebrowsing.enabled\": \"false\"}\n",
        "chrome_options.add_experimental_option(\"prefs\", preferences)\n",
        "\n",
        "# Ayarları belirlenen chrome-driver'ın oluşturulması\n",
        "driver = webdriver.Chrome('chromedriver', options=chrome_options)\n",
        "\n",
        "# URL'in oluşturulması ve ona bağlanma\n",
        "main_url = \"https://bdd-data.berkeley.edu/login.html\";\n",
        "driver.get(main_url)\n",
        "\n",
        "# Başlığı tanımlama\n",
        "title = driver.title\n",
        "\n",
        "try:\n",
        "  # Sitede js derleme\n",
        "  script_mail = 'document.getElementById(\"email\").value = \"yoif4@alexbox.online\"'\n",
        "  script_pass = 'document.getElementById(\"password\").value = \"Temp1234\"'\n",
        "  script_login = 'document.getElementById(\"login-button\").click()'\n",
        "  \n",
        "  driver.execute_script(script_mail)\n",
        "  driver.execute_script(script_pass)\n",
        "  driver.execute_script(script_login)\n",
        "  \n",
        "  WebDriverWait(driver, 10).until(EC.presence_of_element_located((By.ID, \"download\")))\n",
        "  print(driver.current_url)\n",
        "  script_download = 'downloadChallengeFile(event, \"bdd100k/bdd100k_images.zip\")'\n",
        "  driver.execute_script(script_download)\n",
        "\n",
        "finally:\n",
        "  driver.quit()\n"
      ],
      "execution_count": 0,
      "outputs": []
    },
    {
      "metadata": {
        "id": "PqFTLKF57koC",
        "colab_type": "code",
        "colab": {}
      },
      "cell_type": "code",
      "source": [
        "!ls \"/content\""
      ],
      "execution_count": 0,
      "outputs": []
    },
    {
      "metadata": {
        "id": "amNoplezEcpD",
        "colab_type": "code",
        "colab": {}
      },
      "cell_type": "code",
      "source": [
        ""
      ],
      "execution_count": 0,
      "outputs": []
    }
  ]
}